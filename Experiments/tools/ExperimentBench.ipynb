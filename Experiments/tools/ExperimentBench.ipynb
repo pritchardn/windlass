{
 "cells": [
  {
   "cell_type": "markdown",
   "metadata": {},
   "source": [
    "# Experiment 1: Hello World Rerun\n",
    "\n",
    "## Research Question\n",
    "Is the implementation of workflow reproduciblity in DALiuGE capable of successfully finding two rerun graphs\n",
    "\n",
    "## Variables\n",
    "|Variable Type|Explanation                                                     |\n",
    "|:------------:|:---------------------------------------------------------------:|\n",
    "|Independent  |Parameters of each logical graph (sumamrised to a file location)|\n",
    "|Dependent    |Merklehash value of leaf nodes in graph                         |\n",
    "|Confounding  |Runtime failures                                                |"
   ]
  },
  {
   "cell_type": "code",
   "execution_count": 1,
   "metadata": {
    "pycharm": {
     "name": "#%%\n"
    }
   },
   "outputs": [],
   "source": [
    "from __future__ import print_function\n",
    "from ipywidgets import interact, interactive, fixed, interact_manual\n",
    "import ipywidgets as widgets\n",
    "import json\n",
    "import optparse\n",
    "import subprocess\n",
    "from IPython.display import display, display_pretty, display_json\n",
    "from dlg.common import tool\n",
    "from dlg.common.reproducibility.reproducibility import ReproducibilityFlags\n",
    "from dlg.translator.tool_commands import dlg_fill, dlg_unroll, dlg_partition, dlg_map, dlg_submit"
   ]
  },
  {
   "cell_type": "code",
   "execution_count": 2,
   "metadata": {
    "pycharm": {
     "name": "#%%\n"
    }
   },
   "outputs": [],
   "source": [
    "def run_full_workflow(workflow: str, rmode: ReproducibilityFlags):\n",
    "    lgt = workflow + \".graph\"\n",
    "    lg = workflow + \"LG.graph\"\n",
    "    pgs = workflow + \"PGS.graph\"\n",
    "    pgt = workflow + \"PGT.graph\"\n",
    "    pg = workflow + \"PG.graph\"\n",
    "    rg = workflow + \".out\"\n",
    "    daemon = tool.start_process('daemon', ['-mm'], stdout=subprocess.PIPE)\n",
    "\n",
    "    rmodes = str(rmode.value)\n",
    "\n",
    "    parser = optparse.OptionParser()\n",
    "    dlg_fill(parser, ['-L', lgt, '-R', rmodes, '-o', lg, '-f', 'newline'])\n",
    "    parser = optparse.OptionParser()\n",
    "    dlg_unroll(parser, ['-L', lg, '-o', pgs, '-f', 'newline'])\n",
    "    parser = optparse.OptionParser()\n",
    "    dlg_partition(parser, ['-P', pgs, '-o', pgt, '-f', 'newline'])\n",
    "    parser = optparse.OptionParser()\n",
    "    dlg_map(parser, ['-P', pgt, '-N', '127.0.0.1,127.0.0.1', '-o', pg, '-f', 'newline'])\n",
    "    parser = optparse.OptionParser()\n",
    "    dlg_submit(parser, ['-P', pg, '-p', '8000', '-R', '-o', rg, '-f', 'newline'])\n",
    "    daemon.kill()\n",
    "\n",
    "def test_identical(w1: str, w2: str):\n",
    "    f1 = open(w1 + '.out')\n",
    "    f2 = open(w2 + '.out')\n",
    "    r1 = json.load(f1)\n",
    "    r2 = json.load(f2)\n",
    "    f1.close()\n",
    "    f2.close()\n",
    "\n",
    "    return r1['reprodata']['signature'] == r2['reprodata']['signature']\n",
    "\n",
    "def summarise_run(record: dict):\n",
    "    return {'result_hash': record['reprodata']['leaves'], 'meta_data': record['reprodata']['meta_data'],\n",
    "            'meta_merkleroot': record['reprodata']['merkleroot']}"
   ]
  },
  {
   "cell_type": "code",
   "execution_count": 3,
   "metadata": {
    "pycharm": {
     "name": "#%%\n"
    }
   },
   "outputs": [
    {
     "data": {
      "application/vnd.jupyter.widget-view+json": {
       "model_id": "d1d43ea909d441919a6a4202193afd40",
       "version_major": 2,
       "version_minor": 0
      },
      "text/plain": [
       "Text(value='HelloSBash')"
      ]
     },
     "metadata": {},
     "output_type": "display_data"
    },
    {
     "data": {
      "application/vnd.jupyter.widget-view+json": {
       "model_id": "25de0fa0fc374ee4a5b4a4cf2cf0cbf5",
       "version_major": 2,
       "version_minor": 0
      },
      "text/plain": [
       "Text(value='HelloWorldBash')"
      ]
     },
     "metadata": {},
     "output_type": "display_data"
    }
   ],
   "source": [
    "graph1_widget = widgets.Text(value='HelloSBash')\n",
    "graph2_widget = widgets.Text(value='HelloWorldBash')\n",
    "display(graph1_widget)\n",
    "display(graph2_widget)"
   ]
  },
  {
   "cell_type": "code",
   "execution_count": 4,
   "metadata": {
    "pycharm": {
     "name": "#%%\n"
    }
   },
   "outputs": [
    {
     "data": {
      "application/vnd.jupyter.widget-view+json": {
       "model_id": "e60c4767f2ff44119fe390bc48385c9b",
       "version_major": 2,
       "version_minor": 0
      },
      "text/plain": [
       "Checkbox(value=False, description='Run graph files?', indent=False)"
      ]
     },
     "metadata": {},
     "output_type": "display_data"
    }
   ],
   "source": [
    "run_workflow = widgets.Checkbox(value=False, description='Run graph files?', indent=False)\n",
    "display(run_workflow)"
   ]
  },
  {
   "cell_type": "code",
   "execution_count": 5,
   "metadata": {
    "pycharm": {
     "name": "#%%\n"
    }
   },
   "outputs": [
    {
     "data": {
      "application/vnd.jupyter.widget-view+json": {
       "model_id": "c305fa6dadef4785b9c6e145c73fdb05",
       "version_major": 2,
       "version_minor": 0
      },
      "text/plain": [
       "Dropdown(options={'Rerun': <ReproducibilityFlags.RERUN: 1>, 'Repeat': <ReproducibilityFlags.REPEAT: 2>, 'Nothi…"
      ]
     },
     "metadata": {},
     "output_type": "display_data"
    }
   ],
   "source": [
    "rmode_widget = widgets.Dropdown(\n",
    "    options={'Rerun': ReproducibilityFlags.RERUN,\\\n",
    "             'Repeat': ReproducibilityFlags.REPEAT, \\\n",
    "             'Nothing': ReproducibilityFlags.NOTHING\n",
    "            }\n",
    ")\n",
    "display(rmode_widget)"
   ]
  },
  {
   "cell_type": "code",
   "execution_count": 6,
   "metadata": {
    "pycharm": {
     "name": "#%%\n"
    }
   },
   "outputs": [
    {
     "data": {
      "application/vnd.jupyter.widget-view+json": {
       "model_id": "3477da51945f4c9699b9579a89bbea1b",
       "version_major": 2,
       "version_minor": 0
      },
      "text/plain": [
       "Text(value='')"
      ]
     },
     "metadata": {},
     "output_type": "display_data"
    }
   ],
   "source": [
    "result_widget = widgets.Text(value='')\n",
    "display(result_widget)"
   ]
  },
  {
   "cell_type": "code",
   "execution_count": 7,
   "metadata": {
    "pycharm": {
     "name": "#%%\n"
    }
   },
   "outputs": [
    {
     "data": {
      "application/vnd.jupyter.widget-view+json": {
       "model_id": "334ea4bbde624cd997efe4e5a2745cfb",
       "version_major": 2,
       "version_minor": 0
      },
      "text/plain": [
       "Button(description='RUN!', style=ButtonStyle())"
      ]
     },
     "metadata": {},
     "output_type": "display_data"
    }
   ],
   "source": [
    "run_button = widgets.Button(description=\"RUN!\")\n",
    "display(run_button)\n",
    "\n",
    "def run(g1, g2, rmode, run=False):\n",
    "    if run:\n",
    "        result_widget.value = \"Running workflow %s.graph\" % graph1_widget.value\n",
    "        run_full_workflow(g1, rmode)\n",
    "        result_widget.value = \"Running workflow %s.graph\" % graph2_widget.value\n",
    "        run_full_workflow(g2, rmode)\n",
    "    result = test_identical(g1, g2)\n",
    "    if result:\n",
    "        result_widget.value = 'SUCCESS'\n",
    "    else:\n",
    "        result_widget.value = 'FAILURE'\n",
    "\n",
    "def button_click(self):\n",
    "    run(graph1_widget.value, graph2_widget.value, rmode_widget.value, run_workflow.value)\n",
    "\n",
    "run_button.on_click(button_click)"
   ]
  },
  {
   "cell_type": "code",
   "execution_count": null,
   "outputs": [],
   "source": [],
   "metadata": {
    "collapsed": false,
    "pycharm": {
     "name": "#%%\n"
    }
   }
  },
  {
   "cell_type": "code",
   "execution_count": null,
   "metadata": {},
   "outputs": [],
   "source": []
  }
 ],
 "metadata": {
  "kernelspec": {
   "display_name": "Python 3",
   "language": "python",
   "name": "python3"
  },
  "language_info": {
   "codemirror_mode": {
    "name": "ipython",
    "version": 3
   },
   "file_extension": ".py",
   "mimetype": "text/x-python",
   "name": "python",
   "nbconvert_exporter": "python",
   "pygments_lexer": "ipython3",
   "version": "3.6.9"
  }
 },
 "nbformat": 4,
 "nbformat_minor": 4
}