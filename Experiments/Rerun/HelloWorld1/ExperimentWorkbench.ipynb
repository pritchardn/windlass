{
 "cells": [
  {
   "cell_type": "markdown",
   "source": [
    "# Experiment 1: Hello World Rerun\n",
    "\n",
    "## Research Question\n",
    "Is the implementation of workflow reproduciblity in DALiuGE capable of successfully finding two rerun graphs\n",
    "\n",
    "## Variables\n",
    "|Variable Type|Explanation                                                     |\n",
    "|:------------:|:---------------------------------------------------------------:|\n",
    "|Independent  |Parameters of each logical graph (sumamrised to a file location)|\n",
    "|Dependent    |Merklehash value of leaf nodes in graph                         |\n",
    "|Confounding  |Runtime failures                                                |"
   ],
   "metadata": {
    "collapsed": false
   }
  },
  {
   "cell_type": "code",
   "execution_count": null,
   "outputs": [],
   "source": [
    "from __future__ import print_function\n",
    "from ipywidgets import interact, interactive, fixed, interact_manual\n",
    "import ipywidgets as widgets\n",
    "import json\n",
    "import optparse\n",
    "import subprocess\n",
    "from IPython.display import display, display_pretty, display_json\n",
    "from dlg.common import tool\n",
    "from dlg.common.reproducibility.reproducibility import ReproducibilityFlags\n",
    "from dlg.translator.tool_commands import dlg_fill, dlg_unroll, dlg_partition, dlg_map, dlg_submit"
   ],
   "metadata": {
    "collapsed": false,
    "pycharm": {
     "name": "#%%\n"
    }
   }
  },
  {
   "cell_type": "code",
   "execution_count": null,
   "outputs": [],
   "source": [
    "def run_full_workflow(workflow: str, rmode: ReproducibilityFlags):\n",
    "    lgt = workflow + \".graph\"\n",
    "    lg = workflow + \"LG.graph\"\n",
    "    pgs = workflow + \"PGS.graph\"\n",
    "    pgt = workflow + \"PGT.graph\"\n",
    "    pg = workflow + \"PG.graph\"\n",
    "    rg = workflow + \".out\"\n",
    "    daemon = tool.start_process('daemon', ['-mm'], stdout=subprocess.PIPE)\n",
    "\n",
    "    rmodes = str(rmode.value)\n",
    "\n",
    "    parser = optparse.OptionParser()\n",
    "    dlg_fill(parser, ['-L', lgt, '-R', rmodes, '-o', lg, '-f', 'newline'])\n",
    "    parser = optparse.OptionParser()\n",
    "    dlg_unroll(parser, ['-L', lg, '-o', pgs, '-f', 'newline'])\n",
    "    parser = optparse.OptionParser()\n",
    "    dlg_partition(parser, ['-P', pgs, '-o', pgt, '-f', 'newline'])\n",
    "    parser = optparse.OptionParser()\n",
    "    dlg_map(parser, ['-P', pgt, '-N', '127.0.0.1,127.0.0.1', '-o', pg, '-f', 'newline'])\n",
    "    parser = optparse.OptionParser()\n",
    "    dlg_submit(parser, ['-P', pg, '-p', '8000', '-R', '-o', rg, '-f', 'newline'])\n",
    "    daemon.kill()\n",
    "\n",
    "def test_identical(w1: str, w2: str):\n",
    "    f1 = open(w1 + '.out')\n",
    "    f2 = open(w2 + '.out')\n",
    "    r1 = json.load(f1)\n",
    "    r2 = json.load(f2)\n",
    "    f1.close()\n",
    "    f2.close()\n",
    "\n",
    "    return set(r1['reprodata']['leaves']) == set(r2['reprodata']['leaves'])\n",
    "\n",
    "def summarise_run(record: dict):\n",
    "    return {'result_hash': record['reprodata']['leaves'], 'meta_data': record['reprodata']['meta_data'],\n",
    "            'meta_merkleroot': record['reprodata']['merkleroot']}"
   ],
   "metadata": {
    "collapsed": false,
    "pycharm": {
     "name": "#%%\n"
    }
   }
  },
  {
   "cell_type": "code",
   "execution_count": null,
   "outputs": [],
   "source": [
    "graph1_widget = widgets.Text(value='HelloSBash')\n",
    "graph2_widget = widgets.Text(value='HelloWorldBash')\n",
    "display(graph1_widget)\n",
    "display(graph2_widget)"
   ],
   "metadata": {
    "collapsed": false,
    "pycharm": {
     "name": "#%%\n"
    }
   }
  },
  {
   "cell_type": "code",
   "execution_count": null,
   "outputs": [],
   "source": [
    "run_workflow = widgets.Checkbox(value=False, description='Run graph files?', indent=False)\n",
    "display(run_workflow)"
   ],
   "metadata": {
    "collapsed": false,
    "pycharm": {
     "name": "#%%\n"
    }
   }
  },
  {
   "cell_type": "code",
   "execution_count": null,
   "outputs": [],
   "source": [
    "rmode_widget = widgets.Dropdown(\n",
    "    options={'Rerun': ReproducibilityFlags.RERUN,\\\n",
    "             'Repeat': ReproducibilityFlags.REPEAT, \\\n",
    "             'Nothing': ReproducibilityFlags.NOTHING\n",
    "            }\n",
    ")\n",
    "display(rmode_widget)"
   ],
   "metadata": {
    "collapsed": false,
    "pycharm": {
     "name": "#%%\n"
    }
   }
  },
  {
   "cell_type": "code",
   "execution_count": null,
   "outputs": [],
   "source": [
    "result_widget = widgets.Text(value='')\n",
    "display(result_widget)"
   ],
   "metadata": {
    "collapsed": false,
    "pycharm": {
     "name": "#%%\n"
    }
   }
  },
  {
   "cell_type": "code",
   "execution_count": null,
   "outputs": [],
   "source": [
    "run_button = widgets.Button(description=\"RUN!\")\n",
    "display(run_button)\n",
    "\n",
    "def run(g1, g2, rmode, run=False):\n",
    "    if run:\n",
    "        result_widget.value = \"Running workflow %s.graph\" % graph1_widget.value\n",
    "        run_full_workflow(g1, rmode)\n",
    "        result_widget.value = \"Running workflow %s.graph\" % graph2_widget.value\n",
    "        run_full_workflow(g2, rmode)\n",
    "    result = test_identical(g1, g2)\n",
    "    if result:\n",
    "        result_widget.value = 'SUCCESS'\n",
    "    else:\n",
    "        result_widget.value = 'FAILURE'\n",
    "\n",
    "def button_click(self):\n",
    "    run(graph1_widget.value, graph2_widget.value, rmode_widget.value, run_workflow.value)\n",
    "\n",
    "run_button.on_click(button_click)"
   ],
   "metadata": {
    "collapsed": false,
    "pycharm": {
     "name": "#%%\n"
    }
   }
  }
 ],
 "metadata": {
  "kernelspec": {
   "display_name": "Python 3",
   "language": "python",
   "name": "python3"
  },
  "language_info": {
   "codemirror_mode": {
    "name": "ipython",
    "version": 2
   },
   "file_extension": ".py",
   "mimetype": "text/x-python",
   "name": "python",
   "nbconvert_exporter": "python",
   "pygments_lexer": "ipython2",
   "version": "2.7.6"
  }
 },
 "nbformat": 4,
 "nbformat_minor": 0
}