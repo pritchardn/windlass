{
 "cells": [
  {
   "cell_type": "markdown",
   "metadata": {},
   "source": [
    "# Experiment 1: Hello World Rerun\n",
    "\n",
    "## Research Question\n",
    "Is the implementation of workflow reproduciblity in DALiuGE capable of successfully finding two rerun graphs\n",
    "\n",
    "## Variables\n",
    "|Variable Type|Explanation                                                     |\n",
    "|:------------:|:---------------------------------------------------------------:|\n",
    "|Independent  |Parameters of each logical graph (sumamrised to a file location)|\n",
    "|Dependent    |Merklehash value of leaf nodes in graph                         |\n",
    "|Confounding  |Runtime failures                                                |"
   ]
  },
  {
   "cell_type": "code",
   "execution_count": 1,
   "metadata": {},
   "outputs": [],
   "source": [
    "from __future__ import print_function\n",
    "from ipywidgets import interact, interactive, fixed, interact_manual\n",
    "import ipywidgets as widgets\n",
    "import json\n",
    "import optparse\n",
    "import subprocess\n",
    "from IPython.display import display\n",
    "from dlg.common.reproducibility.reproducibility import ReproducibilityFlags\n",
    "from dlg.translator.tool_commands import dlg_fill, dlg_unroll, dlg_partition, dlg_map, dlg_submit"
   ]
  },
  {
   "cell_type": "code",
   "execution_count": 2,
   "metadata": {},
   "outputs": [],
   "source": [
    "def run_full_workflow(workflow: str, rmode: ReproducibilityFlags):\n",
    "    lgt = workflow + \".graph\"\n",
    "    lg = workflow + \"LG.graph\"\n",
    "    pgs = workflow + \"PGS.graph\"\n",
    "    pgt = workflow + \"PGT.graph\"\n",
    "    pg = workflow + \"PG.graph\"\n",
    "    rg = workflow + \".out\"\n",
    "\n",
    "    rmodes = str(rmode.value)\n",
    "\n",
    "    parser = optparse.OptionParser()\n",
    "    dlg_fill(parser, ['-L', lgt, '-R', rmodes, '-o', lg, '-f', 'newline'])\n",
    "    parser = optparse.OptionParser()\n",
    "    dlg_unroll(parser, ['-L', lg, '-o', pgs, '-f', 'newline'])\n",
    "    parser = optparse.OptionParser()\n",
    "    dlg_partition(parser, ['-P', pgs, '-o', pgt, '-f', 'newline'])\n",
    "    parser = optparse.OptionParser()\n",
    "    dlg_map(parser, ['-P', pgt, '-N', '127.0.0.1,127.0.0.1', '-o', pg, '-f', 'newline'])\n",
    "    parser = optparse.OptionParser()\n",
    "    dlg_submit(parser, ['-P', pg, '-p', '8000', '-R', '-o', rg, '-f', 'newline'])\n",
    "\n",
    "def test_identical(w1: str, w2: str):\n",
    "    f1 = open(w1 + '.out')\n",
    "    f2 = open(w2 + '.out')\n",
    "    r1 = json.load(f1)\n",
    "    r2 = json.load(f2)\n",
    "    f1.close()\n",
    "    f2.close()\n",
    "\n",
    "    return set(r1['reprodata']['leaves']) == set(r2['reprodata']['leaves'])\n",
    "\n",
    "def summarise_run(record: dict):\n",
    "    return {'result_hash': record['reprodata']['leaves'], 'meta_data': record['reprodata']['meta_data'],\n",
    "            'meta_merkleroot': record['reprodata']['merkleroot']}"
   ]
  },
  {
   "cell_type": "code",
   "execution_count": 3,
   "metadata": {},
   "outputs": [
    {
     "data": {
      "application/vnd.jupyter.widget-view+json": {
       "model_id": "a861873e123e4921bac7272c181a7741",
       "version_major": 2,
       "version_minor": 0
      },
      "text/plain": [
       "Dropdown(options={'Rerun': <ReproducibilityFlags.RERUN: 1>, 'Repeat': <ReproducibilityFlags.REPEAT: 2>}, value…"
      ]
     },
     "metadata": {},
     "output_type": "display_data"
    }
   ],
   "source": [
    "rmode_widget = widgets.Dropdown(\n",
    "    options={'Rerun': ReproducibilityFlags.RERUN,\\\n",
    "             'Repeat': ReproducibilityFlags.REPEAT}\n",
    ")\n",
    "display(rmode_widget)"
   ]
  },
  {
   "cell_type": "code",
   "execution_count": 4,
   "metadata": {},
   "outputs": [
    {
     "data": {
      "application/vnd.jupyter.widget-view+json": {
       "model_id": "c641c453a6834bf8b5acebc49da0b098",
       "version_major": 2,
       "version_minor": 0
      },
      "text/plain": [
       "Text(value='HelloSBash')"
      ]
     },
     "metadata": {},
     "output_type": "display_data"
    },
    {
     "data": {
      "application/vnd.jupyter.widget-view+json": {
       "model_id": "6f01343b459847f8b0d6e657fd63cda8",
       "version_major": 2,
       "version_minor": 0
      },
      "text/plain": [
       "Text(value='HelloWorldBash')"
      ]
     },
     "metadata": {},
     "output_type": "display_data"
    },
    {
     "data": {
      "application/vnd.jupyter.widget-view+json": {
       "model_id": "8c4ec3a0f20d4b8a94c8ec17ef55b169",
       "version_major": 2,
       "version_minor": 0
      },
      "text/plain": [
       "Button(description='RUN!', style=ButtonStyle())"
      ]
     },
     "metadata": {},
     "output_type": "display_data"
    },
    {
     "name": "stdout",
     "output_type": "stream",
     "text": [
      "1\n"
     ]
    }
   ],
   "source": [
    "button = widgets.Button(description=\"RUN!\")\n",
    "graph_pick = widgets.Text(value='HelloSBash')\n",
    "graph2_pick = widgets.Text(value='HelloWorldBash')\n",
    "display(graph_pick)\n",
    "display(graph2_pick)\n",
    "\n",
    "def run(g1, g2, rmode):\n",
    "    #run_full_workflow(g1, rmode)\n",
    "    #run_full_workflow(g2, rmode)\n",
    "    print(rmode.value)\n",
    "    result = test_identical(g1, g2)\n",
    "    \n",
    "def button_click(self):\n",
    "    run(graph_pick.value, graph2_pick.value, rmode_widget.value)\n",
    "    \n",
    "button.on_click(button_click)\n",
    "\n",
    "display(button)"
   ]
  },
  {
   "cell_type": "code",
   "execution_count": null,
   "metadata": {},
   "outputs": [],
   "source": []
  }
 ],
 "metadata": {
  "kernelspec": {
   "display_name": "helloworld",
   "language": "python",
   "name": "helloworld"
  },
  "language_info": {
   "codemirror_mode": {
    "name": "ipython",
    "version": 3
   },
   "file_extension": ".py",
   "mimetype": "text/x-python",
   "name": "python",
   "nbconvert_exporter": "python",
   "pygments_lexer": "ipython3",
   "version": "3.7.7"
  }
 },
 "nbformat": 4,
 "nbformat_minor": 4
}
